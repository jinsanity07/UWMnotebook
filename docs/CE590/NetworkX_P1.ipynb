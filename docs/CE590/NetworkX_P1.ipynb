{
 "cells": [
  {
   "cell_type": "code",
   "execution_count": 47,
   "metadata": {},
   "outputs": [],
   "source": [
    "import itertools\n",
    "import copy\n",
    "import networkx as nx\n",
    "import pandas as pd\n",
    "import matplotlib.pyplot as plt"
   ]
  },
  {
   "cell_type": "code",
   "execution_count": 48,
   "metadata": {},
   "outputs": [
    {
     "name": "stdout",
     "output_type": "stream",
     "text": [
      "C:\\Users\\zihao\\OneDrive - UWM\\Documents\\CIV 590 UTP\\hw\\HW4\n"
     ]
    }
   ],
   "source": [
    "cd C:\\Users\\zihao\\OneDrive - UWM\\Documents\\CIV 590 UTP\\hw\\HW4\\"
   ]
  },
  {
   "cell_type": "markdown",
   "metadata": {},
   "source": [
    "# Problem 1"
   ]
  },
  {
   "cell_type": "markdown",
   "metadata": {},
   "source": [
    "## Compute shorest path"
   ]
  },
  {
   "cell_type": "code",
   "execution_count": 49,
   "metadata": {},
   "outputs": [],
   "source": [
    "# Grab edge list data \n",
    "edgelist = pd.read_csv('edges.csv')"
   ]
  },
  {
   "cell_type": "code",
   "execution_count": 50,
   "metadata": {},
   "outputs": [],
   "source": [
    "nodelist = pd.read_csv('nodes.csv',error_bad_lines=False)"
   ]
  },
  {
   "cell_type": "code",
   "execution_count": 82,
   "metadata": {
    "scrolled": true
   },
   "outputs": [],
   "source": [
    "# nodelist.head(5)"
   ]
  },
  {
   "cell_type": "code",
   "execution_count": 52,
   "metadata": {},
   "outputs": [],
   "source": [
    "# Create empty graph\n",
    "g = nx.Graph()"
   ]
  },
  {
   "cell_type": "code",
   "execution_count": 53,
   "metadata": {},
   "outputs": [],
   "source": [
    "# Add edges and edge attributes\n",
    "for i, elrow in edgelist.iterrows():\n",
    "#     g.add_edge(elrow[0], elrow[1], attr_dict=elrow[2:].to_dict())\n",
    "    g.add_edge(elrow[0], elrow[1], weight= elrow[2])"
   ]
  },
  {
   "cell_type": "code",
   "execution_count": 54,
   "metadata": {},
   "outputs": [
    {
     "data": {
      "text/plain": [
       "EdgeView([('A1', '2'), ('A1', '5'), ('2', '3'), ('2', '6'), ('3', '4'), ('3', '7'), ('4', 'C8'), ('5', '6'), ('5', 'B9'), ('6', '7'), ('7', 'C8'), ('7', '10'), ('C8', '11'), ('B9', '10'), ('10', '11'), ('10', '12'), ('11', 'D13'), ('12', 'D13')])"
      ]
     },
     "execution_count": 54,
     "metadata": {},
     "output_type": "execute_result"
    }
   ],
   "source": [
    "g.edges"
   ]
  },
  {
   "cell_type": "code",
   "execution_count": 55,
   "metadata": {},
   "outputs": [],
   "source": [
    "for i, nlrow in nodelist.iterrows():\n",
    "    g.node[nlrow['id']].update(nlrow[1:].to_dict())  ## \n",
    "#     print (nlrow['id'])\n",
    "#     print (nlrow[1:].to_dict())"
   ]
  },
  {
   "cell_type": "code",
   "execution_count": 56,
   "metadata": {},
   "outputs": [
    {
     "name": "stdout",
     "output_type": "stream",
     "text": [
      "id    D13\n",
      "x      13\n",
      "y     -12\n",
      "Name: 12, dtype: object\n"
     ]
    }
   ],
   "source": [
    "print(nlrow)"
   ]
  },
  {
   "cell_type": "code",
   "execution_count": 57,
   "metadata": {},
   "outputs": [
    {
     "name": "stdout",
     "output_type": "stream",
     "text": [
      "# of edges: 18\n",
      "# of nodes: 13\n"
     ]
    }
   ],
   "source": [
    "print('# of edges: {}'.format(g.number_of_edges()))\n",
    "print('# of nodes: {}'.format(g.number_of_nodes()))"
   ]
  },
  {
   "cell_type": "code",
   "execution_count": 58,
   "metadata": {},
   "outputs": [],
   "source": [
    "# Define data structure (list) of edge colors for plotting\n",
    "edge_weight = [e[2]['weight'] for e in g.edges(data=True)]\n",
    "labels = nx.get_edge_attributes(g,'weight')"
   ]
  },
  {
   "cell_type": "code",
   "execution_count": 60,
   "metadata": {},
   "outputs": [],
   "source": [
    "# Define node positions data structure (dict) for plotting\n",
    "node_positions = {node[0]: (node[1]['x'], -node[1]['y']) for node in g.nodes(data=True)}\n"
   ]
  },
  {
   "cell_type": "code",
   "execution_count": 79,
   "metadata": {},
   "outputs": [
    {
     "data": {
      "image/png": "[encoded data removed]",
      "text/plain": [
       "<Figure size 576x432 with 1 Axes>"
      ]
     },
     "metadata": {},
     "output_type": "display_data"
    }
   ],
   "source": [
    "plt.figure(figsize=(8, 6))\n",
    "nx.draw(g, pos=node_positions, node_size=500, node_color='red',with_labels=True)\n",
    "nx.draw_networkx_edge_labels(g, pos=node_positions,edge_labels=labels)\n",
    "plt.title('Graph Representation of link weight', size=15)\n",
    "plt.show()"
   ]
  },
  {
   "cell_type": "code",
   "execution_count": 72,
   "metadata": {},
   "outputs": [
    {
     "data": {
      "text/plain": [
       "['A1', '2', '3', '4', 'C8']"
      ]
     },
     "execution_count": 72,
     "metadata": {},
     "output_type": "execute_result"
    }
   ],
   "source": [
    "nx.shortest_path(g,'A1','C8',\"weight\")"
   ]
  },
  {
   "cell_type": "code",
   "execution_count": 63,
   "metadata": {},
   "outputs": [
    {
     "data": {
      "text/plain": [
       "['A1', '2', '6', '7', '10', '12', 'D13']"
      ]
     },
     "execution_count": 63,
     "metadata": {},
     "output_type": "execute_result"
    }
   ],
   "source": [
    "nx.shortest_path(g,'A1','D13',\"weight\")"
   ]
  },
  {
   "cell_type": "code",
   "execution_count": 64,
   "metadata": {},
   "outputs": [
    {
     "data": {
      "text/plain": [
       "['B9', '5', '6', '7', 'C8']"
      ]
     },
     "execution_count": 64,
     "metadata": {},
     "output_type": "execute_result"
    }
   ],
   "source": [
    "nx.shortest_path(g,'B9','C8',\"weight\")"
   ]
  },
  {
   "cell_type": "code",
   "execution_count": 65,
   "metadata": {},
   "outputs": [
    {
     "data": {
      "text/plain": [
       "['B9', '10', '12', 'D13']"
      ]
     },
     "execution_count": 65,
     "metadata": {},
     "output_type": "execute_result"
    }
   ],
   "source": [
    "nx.shortest_path(g,'B9','D13',\"weight\")"
   ]
  },
  {
   "cell_type": "markdown",
   "metadata": {},
   "source": [
    "## All-or-Nothing result"
   ]
  },
  {
   "cell_type": "code",
   "execution_count": 73,
   "metadata": {},
   "outputs": [],
   "source": [
    "# Grab edge list data \n",
    "edgelist = pd.read_csv('edges_impedance.csv')\n",
    "nodelist = pd.read_csv('nodes.csv',error_bad_lines=False)\n",
    "G = nx.Graph()"
   ]
  },
  {
   "cell_type": "code",
   "execution_count": 74,
   "metadata": {},
   "outputs": [],
   "source": [
    "for i, elrow in edgelist.iterrows():\n",
    "#     g.add_edge(elrow[0], elrow[1], attr_dict=elrow[2:].to_dict())\n",
    "    G.add_edge(elrow[0], elrow[1], weight= elrow[2])\n",
    "    \n",
    "for i, nlrow in nodelist.iterrows():\n",
    "    G.node[nlrow['id']].update(nlrow[1:].to_dict())  ## "
   ]
  },
  {
   "cell_type": "code",
   "execution_count": 77,
   "metadata": {},
   "outputs": [],
   "source": [
    "# Define data structure (list) of edge colors for plotting\n",
    "edge_weight = [e[2]['weight'] for e in G.edges(data=True)]\n",
    "labels = nx.get_edge_attributes(G,'weight')\n",
    "# Define node positions data structure (dict) for plotting\n",
    "node_positions = {node[0]: (node[1]['x'], -node[1]['y']) for node in G.nodes(data=True)}"
   ]
  },
  {
   "cell_type": "code",
   "execution_count": 80,
   "metadata": {},
   "outputs": [
    {
     "data": {
      "image/png": "[encoded data removed]",
      "text/plain": [
       "<Figure size 576x432 with 1 Axes>"
      ]
     },
     "metadata": {},
     "output_type": "display_data"
    }
   ],
   "source": [
    "plt.figure(figsize=(8, 6))\n",
    "nx.draw(G, pos=node_positions, node_size=500, node_color='red',with_labels=True)\n",
    "nx.draw_networkx_edge_labels(G, pos=node_positions,edge_labels=labels)\n",
    "plt.title('Graph Representation of link volume', size=15)\n",
    "plt.show()"
   ]
  },
  {
   "cell_type": "code",
   "execution_count": null,
   "metadata": {},
   "outputs": [],
   "source": []
  }
 ],
 "metadata": {
  "kernelspec": {
   "display_name": "Python 3",
   "language": "python",
   "name": "python3"
  },
  "language_info": {
   "codemirror_mode": {
    "name": "ipython",
    "version": 3
   },
   "file_extension": ".py",
   "mimetype": "text/x-python",
   "name": "python",
   "nbconvert_exporter": "python",
   "pygments_lexer": "ipython3",
   "version": "3.6.0"
  }
 },
 "nbformat": 4,
 "nbformat_minor": 2
}
