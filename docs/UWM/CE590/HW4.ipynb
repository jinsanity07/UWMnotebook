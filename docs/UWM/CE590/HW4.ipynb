{
 "cells": [
  {
   "cell_type": "code",
   "execution_count": 10,
   "metadata": {},
   "outputs": [
    {
     "name": "stdout",
     "output_type": "stream",
     "text": [
      "C:\\Users\\zihao\\Anaconda3\\Library\\bin;C:\\Users\\zihao\\Anaconda3\\Library\\bin;C:\\Users\\zihao\\Anaconda3\\Library\\bin;C:\\Users\\zihao\\Anaconda3;C:\\Users\\zihao\\Anaconda3\\Library\\mingw-w64\\bin;C:\\Users\\zihao\\Anaconda3\\Library\\usr\\bin;C:\\Users\\zihao\\Anaconda3\\Library\\bin;C:\\Users\\zihao\\Anaconda3\\Scripts;C:\\Users\\zihao\\Anaconda3\\bin;C:\\Program Files (x86)\\Intel\\MPI-RT\\4.1.1.036\\em64t\\bin;C:\\Program Files (x86)\\Intel\\MPI-RT\\4.1.1.036\\ia32\\bin;C:\\WINDOWS\\system32;C:\\WINDOWS;C:\\WINDOWS\\System32\\Wbem;C:\\WINDOWS\\System32\\WindowsPowerShell\\v1.0\\;C:\\Program Files (x86)\\Calibre2\\;C:\\Program Files\\Common Files\\Autodesk Shared\\;C:\\WINDOWS\\system32\\config\\systemprofile\\.dnx\\bin;C:\\Program Files\\Microsoft DNX\\Dnvm\\;C:\\Program Files\\Microsoft SQL Server\\130\\Tools\\Binn\\;C:\\Program Files (x86)\\Windows Kits\\8.1\\Windows Performance Toolkit\\;C:\\Program Files\\IBM\\ILOG\\CPLEX_Studio125\\opl\\bin\\x64_win64;C:\\Program Files\\IBM\\ILOG\\CPLEX_Studio125\\opl\\oplide\\;C:\\Program Files\\IBM\\ILOG\\CPLEX_Studio125\\cplex\\bin\\x64_win64;C:\\Program Files\\IBM\\ILOG\\CPLEX_Studio125\\cpoptimizer\\bin\\x64_win64;C:\\WINDOWS\\System32\\OpenSSH\\;C:\\Program Files\\Git\\cmd;C:\\Program Files (x86)\\Pandoc\\;C:\\Users\\zihao\\AppData\\Local\\Microsoft\\WindowsApps;\n"
     ]
    }
   ],
   "source": [
    "import os\n",
    "print( os.environ['PATH'])\n",
    "import sys"
   ]
  },
  {
   "cell_type": "code",
   "execution_count": 11,
   "metadata": {},
   "outputs": [
    {
     "data": {
      "text/plain": [
       "['',\n",
       " 'C:\\\\Users\\\\zihao\\\\Anaconda3\\\\python36.zip',\n",
       " 'C:\\\\Users\\\\zihao\\\\Anaconda3\\\\DLLs',\n",
       " 'C:\\\\Users\\\\zihao\\\\Anaconda3\\\\lib',\n",
       " 'C:\\\\Users\\\\zihao\\\\Anaconda3',\n",
       " 'C:\\\\Users\\\\zihao\\\\Anaconda3\\\\lib\\\\site-packages',\n",
       " 'C:\\\\Users\\\\zihao\\\\Anaconda3\\\\lib\\\\site-packages\\\\win32',\n",
       " 'C:\\\\Users\\\\zihao\\\\Anaconda3\\\\lib\\\\site-packages\\\\win32\\\\lib',\n",
       " 'C:\\\\Users\\\\zihao\\\\Anaconda3\\\\lib\\\\site-packages\\\\Pythonwin',\n",
       " 'C:\\\\Users\\\\zihao\\\\Anaconda3\\\\lib\\\\site-packages\\\\IPython\\\\extensions',\n",
       " 'C:\\\\Users\\\\zihao\\\\.ipython']"
      ]
     },
     "execution_count": 11,
     "metadata": {},
     "output_type": "execute_result"
    }
   ],
   "source": [
    "sys.path"
   ]
  },
  {
   "cell_type": "markdown",
   "metadata": {},
   "source": [
    "## Question 2: \n",
    "Three routes connect an origin and a destination with performance function \n",
    "$t_1 =8+0.5X_1 $, $t_2 =1+2X_2$ , and $t_3 =3+0.75X_3$ , with the x’s expressed in thousands of vehicles per hour and the t’s expressed in minutes. If the peak-hour traffic demand is 3000 vehicles, determine user equilibrium traffic flow."
   ]
  },
  {
   "cell_type": "code",
   "execution_count": 1,
   "metadata": {},
   "outputs": [],
   "source": [
    "from sympy import *\n",
    "from sympy.solvers.solveset import linsolve\n",
    "import numpy as np\n",
    "# from scipy.linalg import solve"
   ]
  },
  {
   "cell_type": "code",
   "execution_count": 2,
   "metadata": {},
   "outputs": [],
   "source": [
    "init_printing(use_unicode=False, wrap_line=False) ##To change the printing method of SymPy Live,"
   ]
  },
  {
   "cell_type": "code",
   "execution_count": 47,
   "metadata": {},
   "outputs": [],
   "source": [
    "def min_UE_x1(euq_t1,euq_t2,total_vol):\n",
    "    ''' UE with two performace function and total volume '''\n",
    "    x1 = list(euq_t1.free_symbols)[0]   ## extract variable of 1st performance function\n",
    "    x2 = list(euq_t2.free_symbols)[0]\n",
    "    eq_ue = integrate(euq_t1 )+integrate(euq_t2)\n",
    "    eq_ue_x1 =eq_ue.subs({x2:total_vol-x1})\n",
    "    eq_1ord= diff(eq_ue_x1,x1,n=1)\n",
    "    x1_value =solve(eq_1ord,x1)\n",
    "    x2_value = solve(total_vol-x2-x1_value[0],x2)\n",
    "    t1 = euq_t1.subs({x1:x1_value[0]})\n",
    "    t2 = euq_t2.subs({x2:x2_value[0]})\n",
    "    return x1_value[0],x2_value[0],t1,t2"
   ]
  },
  {
   "cell_type": "code",
   "execution_count": 4,
   "metadata": {},
   "outputs": [],
   "source": [
    "x1,x2,x3 = symbols(['x1','x2','x3']) \n",
    "t1,t2,t3 = symbols(['t1','t2','t3']) \n",
    "ls_unk =symbols(['x1','x2','x3']) \n",
    "num = len(ls_unk)   ### equals 3\n",
    "total_vol = 3"
   ]
  },
  {
   "cell_type": "markdown",
   "metadata": {},
   "source": [
    "#### form an matrix "
   ]
  },
  {
   "cell_type": "code",
   "execution_count": 5,
   "metadata": {},
   "outputs": [],
   "source": [
    "# # x1+x2+x3 = 3\n",
    "t1= 8 + 0.5*x1\n",
    "t2= 1 + 2*x2\n",
    "t3= 3 + 0.75*x3"
   ]
  },
  {
   "cell_type": "code",
   "execution_count": 6,
   "metadata": {},
   "outputs": [
    {
     "data": {
      "image/png": "[encoded data removed]",
      "text/latex": [
       "$$\\left [ x_{1} + x_{2} + x_{3} - 3, \\quad 0.5 x_{1} - 2 x_{2} + 7, \\quad 2 x_{2} - 0.75 x_{3} - 2\\right ]$$"
      ],
      "text/plain": [
       "[x1 + x2 + x3 - 3, 0.5*x1 - 2*x2 + 7, 2*x2 - 0.75*x3 - 2]"
      ]
     },
     "execution_count": 6,
     "metadata": {},
     "output_type": "execute_result"
    }
   ],
   "source": [
    "Ax =[x1+x2+x3 - total_vol, t1-t2,t2-t3]\n",
    "Ax"
   ]
  },
  {
   "cell_type": "code",
   "execution_count": 7,
   "metadata": {},
   "outputs": [],
   "source": [
    "### create base matrix A and b\n",
    "element = 0.0\n",
    "A_COFF = [[element for i in range(num)] for j in range(num)]\n",
    "A = np.matrix([[element for i in range(num)] for j in range(num)]) ### set  n*n matrix in float \n",
    "b = np.array([element for i in range(num)] )"
   ]
  },
  {
   "cell_type": "code",
   "execution_count": 8,
   "metadata": {},
   "outputs": [],
   "source": [
    "### set value for A and b\n",
    "for i in range(num):  \n",
    "    dic = Ax[i].as_coefficients_dict()  ## extract all coeffcient (includes constant 1)\n",
    "    for j in range(num):  \n",
    "        A[i,j] = float(dic[ ls_unk[j] ] )\n",
    "        b[i] = -float(dic[1])"
   ]
  },
  {
   "cell_type": "code",
   "execution_count": 9,
   "metadata": {},
   "outputs": [
    {
     "data": {
      "text/plain": [
       "matrix([[ 1.  ,  1.  ,  1.  ],\n",
       "        [ 0.5 , -2.  ,  0.  ],\n",
       "        [ 0.  ,  2.  , -0.75]])"
      ]
     },
     "execution_count": 9,
     "metadata": {},
     "output_type": "execute_result"
    }
   ],
   "source": [
    "A"
   ]
  },
  {
   "cell_type": "code",
   "execution_count": 10,
   "metadata": {},
   "outputs": [
    {
     "data": {
      "text/plain": [
       "array([ 3., -7.,  2.])"
      ]
     },
     "execution_count": 10,
     "metadata": {},
     "output_type": "execute_result"
    }
   ],
   "source": [
    "b"
   ]
  },
  {
   "cell_type": "markdown",
   "metadata": {},
   "source": [
    "   * using linear solver"
   ]
  },
  {
   "cell_type": "code",
   "execution_count": 11,
   "metadata": {},
   "outputs": [
    {
     "data": {
      "text/plain": [
       "array([-3.73913043,  2.56521739,  4.17391304])"
      ]
     },
     "execution_count": 11,
     "metadata": {},
     "output_type": "execute_result"
    }
   ],
   "source": [
    "np.linalg.solve(A, b)"
   ]
  },
  {
   "cell_type": "code",
   "execution_count": 12,
   "metadata": {},
   "outputs": [
    {
     "name": "stdout",
     "output_type": "stream",
     "text": [
      "link's volume can not be negative, drop link1\n",
      "keep link 2\n",
      "keep link 3\n"
     ]
    }
   ],
   "source": [
    "ls_a = np.linalg.solve(A, b) > np.array([element for i in range(num)])\n",
    "index = 0\n",
    "ls_link = [t1,t2,t3]\n",
    "ls_keep = []\n",
    "for i in ls_a:\n",
    "    index+= 1\n",
    "    if i :\n",
    "        print (\"keep link {}\".format(index) ) \n",
    "        ls_keep.append(ls_link[index-1])\n",
    "    else:\n",
    "        print (\"link's volume can not be negative, drop link{}\".format(index) )  "
   ]
  },
  {
   "cell_type": "code",
   "execution_count": 13,
   "metadata": {},
   "outputs": [
    {
     "data": {
      "image/png": "[encoded data removed]",
      "text/latex": [
       "$$2 x_{2} + 1$$"
      ],
      "text/plain": [
       "2*x2 + 1"
      ]
     },
     "execution_count": 13,
     "metadata": {},
     "output_type": "execute_result"
    }
   ],
   "source": [
    "ls_keep[0]"
   ]
  },
  {
   "cell_type": "markdown",
   "metadata": {},
   "source": [
    "user equilibrium (UE)"
   ]
  },
  {
   "cell_type": "code",
   "execution_count": 14,
   "metadata": {},
   "outputs": [],
   "source": [
    "x2_value_af,x3_value_af,t2_af,t3_af =min_UE_x1(ls_keep[0],ls_keep[1],total_vol)"
   ]
  },
  {
   "cell_type": "code",
   "execution_count": 15,
   "metadata": {},
   "outputs": [
    {
     "name": "stdout",
     "output_type": "stream",
     "text": [
      "Traffic assignment reacches UE\n",
      "under 2nd UE, traffic volume of route 1 is 1.545 (1000 vph) \n",
      "traffic volume of route 2 is 1.455 (1000 vph)\n",
      "under 2nd UE, travel time of route 1 is 4.091 minutes\n",
      "travel time of route 2 is 4.091 minutes  \n"
     ]
    }
   ],
   "source": [
    "## validation\n",
    "\n",
    "if t2_af == t3_af:\n",
    "    print ('Traffic assignment reacches UE' )\n",
    "    print ('under 2nd UE, traffic volume of route 1 is {} (1000 vph) '.format( round(x2_value_af,3)) +'\\n'+\n",
    "       'traffic volume of route 2 is {} (1000 vph)'.format( round(x3_value_af,3))\n",
    "      )\n",
    "    print ('under 2nd UE, travel time of route 1 is {} minutes'.format( round(t2_af,3)) +'\\n'+\n",
    "       'travel time of route 2 is {} minutes  '.format(round(t3_af,3) )\n",
    "      )\n",
    "else:\n",
    "    print('false')"
   ]
  },
  {
   "cell_type": "markdown",
   "metadata": {},
   "source": [
    "## Question 3: \n",
    "Two routes connect an origin and destination with performance functions $t_1 =5+3X_1$ and $t_2 =7+X_2$ , the x’s expressed in thousands of vehicles per hour and the t’s expressed in minutes. Total O-D demand is 7000 vehicles in the peak hour. Determine the user equilibrium and system optimal route flows and total travel times."
   ]
  },
  {
   "cell_type": "markdown",
   "metadata": {},
   "source": [
    "### a) user equilibrium (UE)"
   ]
  },
  {
   "cell_type": "code",
   "execution_count": 16,
   "metadata": {},
   "outputs": [],
   "source": [
    "x1,x2,x3 = symbols(['x1','x2','x3']) \n",
    "t1,t2,t3 = symbols(['t1','t2','t3']) "
   ]
  },
  {
   "cell_type": "code",
   "execution_count": 17,
   "metadata": {},
   "outputs": [],
   "source": [
    "t1 =5+3*x1 \n",
    "t2 =7+x2\n",
    "# x2 = 7-x1"
   ]
  },
  {
   "cell_type": "code",
   "execution_count": 18,
   "metadata": {},
   "outputs": [],
   "source": [
    "## unsing integration\n",
    "eq_ue = integrate(5+3*x1 )+integrate(7 + x2)"
   ]
  },
  {
   "cell_type": "code",
   "execution_count": 19,
   "metadata": {},
   "outputs": [],
   "source": [
    "eq_ue_x1 =eq_ue.subs({x2:7-x1})   ## substitue x2 using 7-x1"
   ]
  },
  {
   "cell_type": "code",
   "execution_count": 20,
   "metadata": {},
   "outputs": [],
   "source": [
    "eq_1ord= diff(eq_ue_x1,x1,n=1)"
   ]
  },
  {
   "cell_type": "code",
   "execution_count": 21,
   "metadata": {},
   "outputs": [
    {
     "data": {
      "image/png": "[encoded data removed]",
      "text/latex": [
       "$$4 x_{1} - 9$$"
      ],
      "text/plain": [
       "4*x1 - 9"
      ]
     },
     "execution_count": 21,
     "metadata": {},
     "output_type": "execute_result"
    }
   ],
   "source": [
    "eq_1ord"
   ]
  },
  {
   "cell_type": "code",
   "execution_count": 22,
   "metadata": {},
   "outputs": [],
   "source": [
    "x1_value =solve(eq_1ord,x1)"
   ]
  },
  {
   "cell_type": "code",
   "execution_count": 23,
   "metadata": {},
   "outputs": [
    {
     "data": {
      "image/png": "[encoded data removed]",
      "text/latex": [
       "$$\\frac{9}{4}$$"
      ],
      "text/plain": [
       "9/4"
      ]
     },
     "execution_count": 23,
     "metadata": {},
     "output_type": "execute_result"
    }
   ],
   "source": [
    "x1_value[0]"
   ]
  },
  {
   "cell_type": "code",
   "execution_count": 24,
   "metadata": {},
   "outputs": [],
   "source": [
    "x2_value = solve(x1_value[0]+x2-7,x2)"
   ]
  },
  {
   "cell_type": "code",
   "execution_count": 25,
   "metadata": {},
   "outputs": [
    {
     "data": {
      "image/png": "[encoded data removed]",
      "text/latex": [
       "$$\\frac{19}{4}$$"
      ],
      "text/plain": [
       "19/4"
      ]
     },
     "execution_count": 25,
     "metadata": {},
     "output_type": "execute_result"
    }
   ],
   "source": [
    "x2_value[0]"
   ]
  },
  {
   "cell_type": "code",
   "execution_count": 27,
   "metadata": {
    "scrolled": false
   },
   "outputs": [
    {
     "name": "stdout",
     "output_type": "stream",
     "text": [
      "under UE, traffic volume of route 1 is 2.25 \n",
      "traffic volume of route 2 is 4.75 \n",
      "under UE, travel time of route 1 is 11.75 \n",
      "travel time of route 2 is 11.75 \n"
     ]
    }
   ],
   "source": [
    "print ('under UE, traffic volume of route 1 is {} '.format( float(x1_value[0])) +'\\n'+\n",
    "       'traffic volume of route 2 is {} '.format( float(x2_value[0]))\n",
    "      )\n",
    "\n",
    "print ('under UE, travel time of route 1 is {} '.format( float(x1_value[0])*3 + 5) +'\\n'+\n",
    "       'travel time of route 2 is {} '.format( 7 + float(x2_value[0]))\n",
    "      )"
   ]
  },
  {
   "cell_type": "markdown",
   "metadata": {},
   "source": [
    "### b) Social optimal  equilibrium (SOE)"
   ]
  },
  {
   "cell_type": "code",
   "execution_count": 28,
   "metadata": {},
   "outputs": [],
   "source": [
    "X1,X2 = symbols(['X1','X2']) \n",
    "T1,T2 = symbols(['T1','T2']) "
   ]
  },
  {
   "cell_type": "code",
   "execution_count": 29,
   "metadata": {},
   "outputs": [],
   "source": [
    "## create obj using overall system travel time \n",
    "eq_soe = X1*(5+3*X1) + X2*(7 + X2)"
   ]
  },
  {
   "cell_type": "code",
   "execution_count": 30,
   "metadata": {},
   "outputs": [],
   "source": [
    "eq_soe_X1 =eq_soe.subs({X2:7-X1}) "
   ]
  },
  {
   "cell_type": "code",
   "execution_count": 31,
   "metadata": {},
   "outputs": [
    {
     "data": {
      "image/png": "[encoded data removed]",
      "text/latex": [
       "$$X_{1} \\left(3 X_{1} + 5\\right) + \\left(- X_{1} + 7\\right) \\left(- X_{1} + 14\\right)$$"
      ],
      "text/plain": [
       "X1*(3*X1 + 5) + (-X1 + 7)*(-X1 + 14)"
      ]
     },
     "execution_count": 31,
     "metadata": {},
     "output_type": "execute_result"
    }
   ],
   "source": [
    "eq_soe_X1"
   ]
  },
  {
   "cell_type": "code",
   "execution_count": 32,
   "metadata": {},
   "outputs": [
    {
     "name": "stdout",
     "output_type": "stream",
     "text": [
      "8*X1 - 16\n"
     ]
    }
   ],
   "source": [
    "eq_1st= diff(eq_soe_X1,X1,n=1)\n",
    "print (eq_1st)"
   ]
  },
  {
   "cell_type": "code",
   "execution_count": 33,
   "metadata": {},
   "outputs": [],
   "source": [
    "X1_value =solve(eq_1st,X1)\n",
    "X2_value = solve(x1_value[0]+X2-7,X2)"
   ]
  },
  {
   "cell_type": "code",
   "execution_count": 36,
   "metadata": {},
   "outputs": [
    {
     "name": "stdout",
     "output_type": "stream",
     "text": [
      "under SOE, traffic volume of route 1 is 2.0 \n",
      "traffic volume of route 2 is 4.75 \n",
      "under SOE, travel time of route 1 is 11.0 \n",
      "travel time of route 2 is 11.75 \n"
     ]
    }
   ],
   "source": [
    "print ('under SOE, traffic volume of route 1 is {} '.format( float(X1_value[0])) +'\\n'+\n",
    "       'traffic volume of route 2 is {} '.format( float(X2_value[0]))\n",
    "      )\n",
    "\n",
    "\n",
    "print ('under SOE, travel time of route 1 is {} '.format( float(X1_value[0])*3 + 5) +'\\n'+\n",
    "       'travel time of route 2 is {} '.format( 7 + float(X2_value[0]))\n",
    "      )"
   ]
  },
  {
   "cell_type": "markdown",
   "metadata": {},
   "source": [
    "## Question 4: \n",
    "\n",
    "Two routes connect an origin and a destination. The performance functions are $t_1 =3+1.5(X_1 /c_1 )$ and $t_2 =5+4(X_2 /c_2)$, the OD demand is 6000 vehicles per hour, and c1 and c2 are equal to 2000 and 1500 vph, respectively. Proposed capacity improvements will increase c2 by 1000 vph. It is known the current routes are in user equilibrium, and it is estimated that each 1-minute reduction in route travel time will attract an additional 500 vph. What will the user equilibrium flows and total hourly OD demand be after the capacity improvement?"
   ]
  },
  {
   "cell_type": "code",
   "execution_count": 37,
   "metadata": {},
   "outputs": [],
   "source": [
    "x1,x2,q = symbols(['x1','x2','q']) \n",
    "t1,t2,t3 = symbols(['t1','t2','t3']) \n",
    "c1=2\n",
    "c2=1.5\n",
    "euq_t1 = 3 + 1.5*(x1/c1) \n",
    "euq_t2 = 5 + 4*(x2/c2) \n",
    "T_vol = 6\n",
    "sub_x2 = total_vol- x1 "
   ]
  },
  {
   "cell_type": "code",
   "execution_count": 44,
   "metadata": {},
   "outputs": [
    {
     "data": {
      "image/png": "[encoded data removed]",
      "text/latex": [
       "$$\\left ( 5.26829268292683, \\quad 0.731707317073171, \\quad 6.95121951219512, \\quad 6.95121951219512\\right )$$"
      ],
      "text/plain": [
       "(5.26829268292683, 0.731707317073171, 6.95121951219512, 6.95121951219512)"
      ]
     },
     "execution_count": 44,
     "metadata": {},
     "output_type": "execute_result"
    }
   ],
   "source": [
    "min_UE_x1(euq_t1,euq_t2,T_vol)"
   ]
  },
  {
   "cell_type": "code",
   "execution_count": 45,
   "metadata": {},
   "outputs": [],
   "source": [
    "x1_value,x2_value,t1,t2 =min_UE_x1(euq_t1,euq_t2,T_vol)"
   ]
  },
  {
   "cell_type": "code",
   "execution_count": 48,
   "metadata": {},
   "outputs": [
    {
     "name": "stdout",
     "output_type": "stream",
     "text": [
      "under 1st UE, traffic volume of route 1 is 5.268 (1000 vph) \n",
      "traffic volume of route 2 is 0.732 (1000 vph)\n",
      "under 1st UE, travel time of route 1 is 6.951 minutes\n",
      "travel time of route 2 is 6.951 minutes  \n"
     ]
    }
   ],
   "source": [
    "print ('under 1st UE, traffic volume of route 1 is {} (1000 vph) '.format( round(x1_value,3)) +'\\n'+\n",
    "       'traffic volume of route 2 is {} (1000 vph)'.format( round(x2_value,3))\n",
    "      )\n",
    "\n",
    "print ('under 1st UE, travel time of route 1 is {} minutes'.format( round(t1,3)) +'\\n'+\n",
    "       'travel time of route 2 is {} minutes  '.format(round(t2,3) )\n",
    "      )"
   ]
  },
  {
   "cell_type": "code",
   "execution_count": 49,
   "metadata": {},
   "outputs": [],
   "source": [
    "### after \n",
    "c1=2\n",
    "c2=2.5\n",
    "Rate = 0.5 # vph increase per minitue \n",
    "euq_t1 = 3 + 1.5*(x1/c1) \n",
    "euq_t2 = 5 + 4*(x2/c2) "
   ]
  },
  {
   "cell_type": "code",
   "execution_count": 50,
   "metadata": {},
   "outputs": [],
   "source": [
    "x1_value_af,x2_value_af,t1_af,t2_af =min_UE_x1(euq_t1,euq_t2,q)  \n",
    "\n",
    "## q: OD demand after capacity improvement"
   ]
  },
  {
   "cell_type": "code",
   "execution_count": 51,
   "metadata": {},
   "outputs": [
    {
     "data": {
      "image/png": "[encoded data removed]",
      "text/latex": [
       "$$0.51063829787234 q + 3.63829787234043$$"
      ],
      "text/plain": [
       "0.51063829787234*q + 3.63829787234043"
      ]
     },
     "execution_count": 51,
     "metadata": {},
     "output_type": "execute_result"
    }
   ],
   "source": [
    "t1_af"
   ]
  },
  {
   "cell_type": "code",
   "execution_count": 52,
   "metadata": {},
   "outputs": [],
   "source": [
    "# q_after = q_before + 2* Rate*  ( t1 -6.951)"
   ]
  },
  {
   "cell_type": "code",
   "execution_count": 53,
   "metadata": {},
   "outputs": [
    {
     "data": {
      "image/png": "[encoded data removed]",
      "text/latex": [
       "$$\\left [ 6.16474647887324\\right ]$$"
      ],
      "text/plain": [
       "[6.16474647887324]"
      ]
     },
     "execution_count": 53,
     "metadata": {},
     "output_type": "execute_result"
    }
   ],
   "source": [
    "solve( 6 + 2*0.5*(6.951-t1_af)- q  ,q)    ### change parameter based on before conditions"
   ]
  },
  {
   "cell_type": "code",
   "execution_count": 54,
   "metadata": {},
   "outputs": [
    {
     "name": "stdout",
     "output_type": "stream",
     "text": [
      "Traffic assignment reacches UE\n",
      "under 2nd UE, traffic volume of route 1 is 5.048 (1000 vph) \n",
      "traffic volume of route 2 is 1.116 (1000 vph)\n",
      "under 2nd UE, travel time of route 1 is 6.786 minutes\n",
      "travel time of route 2 is 6.786 minutes  \n"
     ]
    }
   ],
   "source": [
    "q_af = solve( 6 + 2*0.5*(6.951-t1_af)- q  ,q)[0] \n",
    "x1_value_af = x1_value_af.subs({q:q_af} )\n",
    "x2_value_af = x2_value_af.subs({q:q_af} )\n",
    "\n",
    "t1_af = euq_t1.subs({x1:x1_value_af})\n",
    "t2_af = euq_t2.subs({x2:x2_value_af})\n",
    "\n",
    "## validation\n",
    "\n",
    "if euq_t1.subs({x1:x1_value_af}) == euq_t2.subs({x2:x2_value_af}):\n",
    "    print ('Traffic assignment reacches UE' )\n",
    "    print ('under 2nd UE, traffic volume of route 1 is {} (1000 vph) '.format( round(x1_value_af,3)) +'\\n'+\n",
    "       'traffic volume of route 2 is {} (1000 vph)'.format( round(x2_value_af,3))\n",
    "      )\n",
    "    print ('under 2nd UE, travel time of route 1 is {} minutes'.format( round(t1_af,3)) +'\\n'+\n",
    "       'travel time of route 2 is {} minutes  '.format(round(t2_af,3) )\n",
    "      )\n",
    "else:\n",
    "    print('false')"
   ]
  },
  {
   "cell_type": "code",
   "execution_count": null,
   "metadata": {},
   "outputs": [],
   "source": []
  }
 ],
 "metadata": {
  "kernelspec": {
   "display_name": "Python 3",
   "language": "python",
   "name": "python3"
  },
  "language_info": {
   "codemirror_mode": {
    "name": "ipython",
    "version": 3
   },
   "file_extension": ".py",
   "mimetype": "text/x-python",
   "name": "python",
   "nbconvert_exporter": "python",
   "pygments_lexer": "ipython3",
   "version": "3.6.0"
  }
 },
 "nbformat": 4,
 "nbformat_minor": 2
}
