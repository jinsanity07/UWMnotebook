{
 "cells": [
  {
   "cell_type": "code",
   "execution_count": 1,
   "metadata": {},
   "outputs": [],
   "source": [
    "import scipy\n",
    "from scipy.stats import norm\n",
    "from math import exp, expm1,sqrt, log\n",
    "import math\n",
    "\n"
   ]
  },
  {
   "cell_type": "markdown",
   "metadata": {},
   "source": [
    "# Question 1"
   ]
  },
  {
   "cell_type": "markdown",
   "metadata": {},
   "source": [
    "## a)"
   ]
  },
  {
   "cell_type": "code",
   "execution_count": 2,
   "metadata": {},
   "outputs": [],
   "source": [
    "def Utility_k(a,x1,x2):\n",
    "    uk = a -0.003*x1 -0.04*x2\n",
    "    return uk"
   ]
  },
  {
   "cell_type": "code",
   "execution_count": 3,
   "metadata": {},
   "outputs": [],
   "source": [
    "def Bi_logit_m(U_bus,U_auto):\n",
    "    prob_bus = exp(U_bus)/( exp(U_bus)+exp(U_auto) ) \n",
    "    prob_auto = 1- prob_bus\n",
    "    return prob_bus, prob_auto"
   ]
  },
  {
   "cell_type": "code",
   "execution_count": 4,
   "metadata": {},
   "outputs": [],
   "source": [
    "U_auto = Utility_k(-0.2,120,30)\n",
    "U_bus = Utility_k(-0.6,30,55)"
   ]
  },
  {
   "cell_type": "code",
   "execution_count": 5,
   "metadata": {},
   "outputs": [
    {
     "data": {
      "text/plain": [
       "(-2.89, -1.76)"
      ]
     },
     "execution_count": 5,
     "metadata": {},
     "output_type": "execute_result"
    }
   ],
   "source": [
    "U_bus, U_auto"
   ]
  },
  {
   "cell_type": "code",
   "execution_count": 6,
   "metadata": {},
   "outputs": [
    {
     "name": "stdout",
     "output_type": "stream",
     "text": [
      "portions of bus and auto is (0.24416110090520288, 0.7558388990947971)respectively\n"
     ]
    }
   ],
   "source": [
    "portion = Bi_logit_m(U_bus,U_auto)\n",
    "print ('portions of bus and auto is ' + str(portion) +'respectively')"
   ]
  },
  {
   "cell_type": "code",
   "execution_count": 7,
   "metadata": {},
   "outputs": [],
   "source": [
    "OD_trip = 10000"
   ]
  },
  {
   "cell_type": "code",
   "execution_count": 8,
   "metadata": {},
   "outputs": [
    {
     "name": "stdout",
     "output_type": "stream",
     "text": [
      "revenue equals to 732 US dollar\n"
     ]
    }
   ],
   "source": [
    "print ('revenue equals to ' \n",
    "       +str(round(OD_trip *portion[0]*30/100))  + ' US dollar') \n"
   ]
  },
  {
   "cell_type": "markdown",
   "metadata": {},
   "source": [
    "## b)\n",
    "$ P _ { i } ( 1 ) = \\Phi \\left( \\frac { \\beta _ { 1 } \\mathbf { X } _ { \\mathrm { il } } - \\beta _ { 2 } \\mathbf { X } _ { \\mathrm { i2 } } } { \\sqrt { \\sigma _ { 1 } ^ { 2 } + \\sigma _ { 2 } ^ { 2 } - 2 \\sigma _ { 12 } } } \\right) = \\Phi ( z )   $  "
   ]
  },
  {
   "cell_type": "markdown",
   "metadata": {},
   "source": [
    "$P ( A ) = \\Phi \\left( \\frac { U _ { A } - U _ { B } } { \\sqrt { \\sigma _ { A } ^ { 2 } + \\sigma _ { B } ^ { 2 } - 2 \\rho \\sigma _ { A } \\sigma _ { B } } } \\right)$"
   ]
  },
  {
   "cell_type": "code",
   "execution_count": 9,
   "metadata": {},
   "outputs": [],
   "source": [
    "def bi_pro_M (U1, U2, sig1, sig2, rho):\n",
    "    '''\n",
    "    coefficient correlation (rho)\n",
    "    '''\n",
    "    numerator = U1- U2\n",
    "    denominator = sqrt(sig1**2 + sig2**2 - 2* rho*sig1*sig2 )\n",
    "    Z_value = numerator/denominator \n",
    "    P1 = norm.cdf(Z_value)\n",
    "    return P1"
   ]
  },
  {
   "cell_type": "code",
   "execution_count": 10,
   "metadata": {},
   "outputs": [
    {
     "data": {
      "text/plain": [
       "0.17841731684999523"
      ]
     },
     "execution_count": 10,
     "metadata": {},
     "output_type": "execute_result"
    }
   ],
   "source": [
    "bi_pro_M(U_bus,U_auto, 0.8,1.2,0.3)"
   ]
  },
  {
   "cell_type": "code",
   "execution_count": 11,
   "metadata": {},
   "outputs": [
    {
     "name": "stdout",
     "output_type": "stream",
     "text": [
      "The revenue of the local bus is 540.0 US dollar\n"
     ]
    }
   ],
   "source": [
    "print ('The revenue of the local bus is ' \n",
    "       + str(OD_trip * round(bi_pro_M(U_bus,U_auto, 0.8,1.2,0.3),2)* 30/100 ) \n",
    "      + ' US dollar')"
   ]
  },
  {
   "cell_type": "markdown",
   "metadata": {},
   "source": [
    "## c) "
   ]
  },
  {
   "cell_type": "code",
   "execution_count": 12,
   "metadata": {},
   "outputs": [],
   "source": [
    "U_BRT = Utility_k(-0.40,60,45)"
   ]
  },
  {
   "cell_type": "code",
   "execution_count": 13,
   "metadata": {},
   "outputs": [
    {
     "data": {
      "text/plain": [
       "(-2.38, -1.76, -2.89)"
      ]
     },
     "execution_count": 13,
     "metadata": {},
     "output_type": "execute_result"
    }
   ],
   "source": [
    "U_BRT,U_auto,U_bus"
   ]
  },
  {
   "cell_type": "code",
   "execution_count": 14,
   "metadata": {},
   "outputs": [],
   "source": [
    "def Mul_logit_m(*argv):\n",
    "    sum_U = 0\n",
    "    for i in range(len(argv)): \n",
    "        sum_U = sum_U +  exp(argv[i])\n",
    "    \n",
    "    ls= [[]]* len(argv)\n",
    "    for i in range(len(argv)): \n",
    "        ls[i] = exp(argv[i]) /sum_U\n",
    "        \n",
    "    return ls"
   ]
  },
  {
   "cell_type": "code",
   "execution_count": 15,
   "metadata": {},
   "outputs": [],
   "source": [
    "prob3 = Mul_logit_m(U_BRT,U_auto,U_bus)"
   ]
  },
  {
   "cell_type": "code",
   "execution_count": 16,
   "metadata": {},
   "outputs": [
    {
     "name": "stdout",
     "output_type": "stream",
     "text": [
      "The probabilty of take BRT, auto and bus are 28.9%, 53.7% and 17.4% respectively\n"
     ]
    }
   ],
   "source": [
    "print (\"The probabilty of take BRT, auto and bus are {}%, {}% and {}% respectively\" \n",
    "       .format(round(prob3[0]*100,1), \n",
    "               round(prob3[1]*100,1), \n",
    "               round(prob3[2]*100,1))\n",
    "      )"
   ]
  },
  {
   "cell_type": "code",
   "execution_count": 17,
   "metadata": {},
   "outputs": [
    {
     "name": "stdout",
     "output_type": "stream",
     "text": [
      "The revenue is $225600.0\n"
     ]
    }
   ],
   "source": [
    "print ('The revenue is ${}'\n",
    "       .format(int(OD_trip)* (0.6 * round(prob3[0]*100,1)+ 0.3 *round(prob3[2]*100,1)) ) )"
   ]
  },
  {
   "cell_type": "markdown",
   "metadata": {},
   "source": [
    "# Problem 2"
   ]
  },
  {
   "cell_type": "markdown",
   "metadata": {},
   "source": [
    "After implementing the BRT service, the public transportation authority did a survey and found that the actual percentage of trips using public transit service is lower than expected (calculated in Question 1). They undertook a nested logit model estimation study and found that $U_T =a+ \\theta * Logsum $  with $a=-0.42 and \\theta=1.1 $. Please determine the corresponding mode shares based on the nested logit model."
   ]
  },
  {
   "cell_type": "markdown",
   "metadata": {},
   "source": [
    "### netsed level "
   ]
  },
  {
   "cell_type": "code",
   "execution_count": 18,
   "metadata": {},
   "outputs": [],
   "source": [
    "def Utility_T(a,theta, U_BRT,U_bus):\n",
    "    logsum = log(exp(U_BRT)+ exp(U_bus))    #nature log\n",
    "    ut = a + logsum* theta \n",
    "    return ut"
   ]
  },
  {
   "cell_type": "code",
   "execution_count": 19,
   "metadata": {},
   "outputs": [],
   "source": [
    "a = -0.42 \n",
    "theta = 1.1 "
   ]
  },
  {
   "cell_type": "code",
   "execution_count": 20,
   "metadata": {},
   "outputs": [
    {
     "data": {
      "text/plain": [
       "-2.5206553501506375"
      ]
     },
     "execution_count": 20,
     "metadata": {},
     "output_type": "execute_result"
    }
   ],
   "source": [
    "Utility_T(a,theta, U_BRT,U_bus)"
   ]
  },
  {
   "cell_type": "code",
   "execution_count": 21,
   "metadata": {},
   "outputs": [],
   "source": [
    "U_transit =Utility_T(a,theta, U_BRT,U_bus)"
   ]
  },
  {
   "cell_type": "code",
   "execution_count": 22,
   "metadata": {},
   "outputs": [
    {
     "data": {
      "text/plain": [
       "(0.3185039995137753, 0.6814960004862247)"
      ]
     },
     "execution_count": 22,
     "metadata": {},
     "output_type": "execute_result"
    }
   ],
   "source": [
    "## primary model\n",
    "Bi_logit_m(U_transit,U_auto)"
   ]
  },
  {
   "cell_type": "code",
   "execution_count": 23,
   "metadata": {},
   "outputs": [],
   "source": [
    "transit_share = Bi_logit_m(U_transit,U_auto)[0]"
   ]
  },
  {
   "cell_type": "code",
   "execution_count": 24,
   "metadata": {},
   "outputs": [
    {
     "data": {
      "text/plain": [
       "(0.11950063847347901, 0.19900336104029628)"
      ]
     },
     "execution_count": 24,
     "metadata": {},
     "output_type": "execute_result"
    }
   ],
   "source": [
    "##\n",
    "def nested_logit_NL(U_transit,U_bus,U_auto):\n",
    "    P_b_t =  Bi_logit_m(U_bus,U_BRT)[0] *transit_share\n",
    "    P_BRt_t =  Bi_logit_m(U_BRT,U_bus)[0] *transit_share\n",
    "    return P_b_t, P_BRt_t\n",
    "nested_logit_NL(U_transit,U_bus,U_auto)"
   ]
  },
  {
   "cell_type": "code",
   "execution_count": 25,
   "metadata": {},
   "outputs": [],
   "source": [
    "prob4 = nested_logit_NL(U_transit,U_bus,U_auto)"
   ]
  },
  {
   "cell_type": "code",
   "execution_count": 26,
   "metadata": {},
   "outputs": [
    {
     "name": "stdout",
     "output_type": "stream",
     "text": [
      "The revenue is $1560.0\n"
     ]
    }
   ],
   "source": [
    "print ('The revenue is ${}'\n",
    "       .format(int(OD_trip)* (0.6 * round(prob4[1],2)+ \n",
    "                              0.3 *round(prob4[0],2)) ) )"
   ]
  },
  {
   "cell_type": "markdown",
   "metadata": {},
   "source": [
    "# Question 3 \n",
    "On weekends, 1000 vehicle-based shopping trips leave the residential area for the two shopping centers. Trips can be made either by auto or by bus. A joint shopping- trip mode-destination choice logit model is estimated with the following coefficients: \n",
    "...\n"
   ]
  },
  {
   "cell_type": "markdown",
   "metadata": {},
   "source": [
    "If shopping center 1 has 250,000ft 2 of commercial floor space and shopping center 2 has 400,000ft 2 , please determine the distribution of the weekend shopping trips by destination and mode. "
   ]
  },
  {
   "cell_type": "code",
   "execution_count": 27,
   "metadata": {},
   "outputs": [],
   "source": [
    "Var = [[0.6,-0.3,0.012],\n",
    "       [0,-0.3,0.012]]     ## coefficent auto; bus"
   ]
  },
  {
   "cell_type": "code",
   "execution_count": 28,
   "metadata": {},
   "outputs": [],
   "source": [
    "tt_dest = [[1,8,250],\n",
    "           [1,15,400],\n",
    "          [1,14,250],\n",
    "          [1,22,400]]  ## auto ;bus"
   ]
  },
  {
   "cell_type": "code",
   "execution_count": 29,
   "metadata": {},
   "outputs": [],
   "source": [
    "U_auto_D1=sum(x*y for x,y in zip(Var[0],tt_dest[0]))  \n",
    "U_auto_D2=sum(x*y for x,y in zip(Var[0],tt_dest[1])) \n",
    "U_bus_D1=sum(x*y for x,y in zip(Var[1],tt_dest[2]))  \n",
    "U_bus_D2=sum(x*y for x,y in zip(Var[1],tt_dest[3])) "
   ]
  },
  {
   "cell_type": "code",
   "execution_count": 30,
   "metadata": {},
   "outputs": [
    {
     "data": {
      "text/plain": [
       "[0.5315407674210888,\n",
       " 0.39377508554068574,\n",
       " 0.048220290510324795,\n",
       " 0.026463856527900616]"
      ]
     },
     "execution_count": 30,
     "metadata": {},
     "output_type": "execute_result"
    }
   ],
   "source": [
    "Mul_logit_m(U_auto_D1,U_auto_D2,U_bus_D1,U_bus_D2)"
   ]
  },
  {
   "cell_type": "code",
   "execution_count": 31,
   "metadata": {},
   "outputs": [],
   "source": [
    "prob5 = Mul_logit_m(U_auto_D1,U_auto_D2,U_bus_D1,U_bus_D2)"
   ]
  },
  {
   "cell_type": "code",
   "execution_count": 32,
   "metadata": {},
   "outputs": [
    {
     "name": "stdout",
     "output_type": "stream",
     "text": [
      "The number of auto trip to shopping center 1 is 530.0\n",
      "The number of auto trip to shopping center 2 is 390.0\n",
      "The number of bus trip to shopping center 1 is 50.0\n",
      "The number of bus trip to shopping center 2 is 30.0\n"
     ]
    }
   ],
   "source": [
    "print (\n",
    "        'The number of auto trip to shopping center 1 is {}'\n",
    "       .format(round(prob5[0],2)*1000) + '\\n'\n",
    "        'The number of auto trip to shopping center 2 is {}'\n",
    "       .format(round(prob5[1],2)*1000) + '\\n'\n",
    "        'The number of bus trip to shopping center 1 is {}'\n",
    "       .format(round(prob5[2],2)*1000) + '\\n'\n",
    "        'The number of bus trip to shopping center 2 is {}'\n",
    "       .format(round(prob5[3],2)*1000) \n",
    "              \n",
    "        )"
   ]
  },
  {
   "cell_type": "markdown",
   "metadata": {},
   "source": [
    "# Question4"
   ]
  },
  {
   "cell_type": "markdown",
   "metadata": {},
   "source": [
    "$\n",
    "P_{A}= e^{U_A} / (e^{U_A}+e^{U_B})\\\\\n",
    "= 1/(1+ e^{U_B - U_A} ) =0.35\n",
    "$\n"
   ]
  },
  {
   "cell_type": "code",
   "execution_count": 55,
   "metadata": {},
   "outputs": [],
   "source": [
    "# before improvement on bus ridership"
   ]
  },
  {
   "cell_type": "code",
   "execution_count": 43,
   "metadata": {},
   "outputs": [],
   "source": [
    "coeff = -0.025\n",
    "bus_s_1 = 0.65\n",
    "delta_A = coeff * 1 \n",
    "delta_B = coeff * (25-30)"
   ]
  },
  {
   "cell_type": "markdown",
   "metadata": {},
   "source": [
    "$\n",
    "P_{A}'= e^{U_A'} / (e^{U_A'}+e^{U_B'})\\\\\n",
    "= 1/(1+ e^{U_B - U_A + \\Delta U_B - \\Delta U_A} )\n",
    "$\n"
   ]
  },
  {
   "cell_type": "code",
   "execution_count": 67,
   "metadata": {},
   "outputs": [
    {
     "data": {
      "text/plain": [
       "0.6190392084062235"
      ]
     },
     "execution_count": 67,
     "metadata": {},
     "output_type": "execute_result"
    }
   ],
   "source": [
    "log(1/0.35 - 1)"
   ]
  },
  {
   "cell_type": "code",
   "execution_count": 63,
   "metadata": {},
   "outputs": [
    {
     "data": {
      "text/plain": [
       "0.15"
      ]
     },
     "execution_count": 63,
     "metadata": {},
     "output_type": "execute_result"
    }
   ],
   "source": [
    "delta_B - delta_A"
   ]
  },
  {
   "cell_type": "code",
   "execution_count": 70,
   "metadata": {},
   "outputs": [],
   "source": [
    "# after P_a2\n",
    "P_a2= 1/(1+exp(log(1/0.35 - 1) + delta_B - delta_A)  )"
   ]
  },
  {
   "cell_type": "code",
   "execution_count": 71,
   "metadata": {},
   "outputs": [
    {
     "data": {
      "text/plain": [
       "0.3166869814172787"
      ]
     },
     "execution_count": 71,
     "metadata": {},
     "output_type": "execute_result"
    }
   ],
   "source": [
    "P_a2"
   ]
  },
  {
   "cell_type": "code",
   "execution_count": 73,
   "metadata": {},
   "outputs": [
    {
     "name": "stdout",
     "output_type": "stream",
     "text": [
      "After the improvement the percentage of auto trip is  32.0%\n",
      "The percentage of bus trip  is 68.0%\n",
      "\n"
     ]
    }
   ],
   "source": [
    "print (\n",
    "        'After the improvement the percentage of auto trip is  {}%'\n",
    "       .format(round(P_a2,2)*100) + '\\n'\n",
    "        'The percentage of bus trip  is {}%'\n",
    "       .format(round(1-P_a2,2)*100) + '\\n'\n",
    "    ) "
   ]
  }
 ],
 "metadata": {
  "kernelspec": {
   "display_name": "Python 3",
   "language": "python",
   "name": "python3"
  },
  "language_info": {
   "codemirror_mode": {
    "name": "ipython",
    "version": 3
   },
   "file_extension": ".py",
   "mimetype": "text/x-python",
   "name": "python",
   "nbconvert_exporter": "python",
   "pygments_lexer": "ipython3",
   "version": "3.6.4"
  }
 },
 "nbformat": 4,
 "nbformat_minor": 2
}
